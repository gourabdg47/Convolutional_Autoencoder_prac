{
  "nbformat": 4,
  "nbformat_minor": 0,
  "metadata": {
    "colab": {
      "name": "autoencoder_prac_1.ipynb",
      "version": "0.3.2",
      "provenance": [],
      "collapsed_sections": [],
      "include_colab_link": true
    },
    "kernelspec": {
      "name": "python3",
      "display_name": "Python 3"
    },
    "accelerator": "GPU"
  },
  "cells": [
    {
      "cell_type": "markdown",
      "metadata": {
        "id": "view-in-github",
        "colab_type": "text"
      },
      "source": [
        "<a href=\"https://colab.research.google.com/github/gourabdg47/Convolutional_Autoencoder_prac/blob/master/autoencoder_prac_1.ipynb\" target=\"_parent\"><img src=\"https://colab.research.google.com/assets/colab-badge.svg\" alt=\"Open In Colab\"/></a>"
      ]
    },
    {
      "metadata": {
        "id": "sVluQEtdW8Zt",
        "colab_type": "code",
        "colab": {}
      },
      "cell_type": "code",
      "source": [
        "import os\n",
        "os.environ['CUDA_DEVICE_ORDER'] = 'PCI_BUS_ID'\n",
        "os.environ[\"CUDA_VISIBLE_DEVICES\"]=\"0\""
      ],
      "execution_count": 0,
      "outputs": []
    },
    {
      "metadata": {
        "id": "hjq0kfInXpXp",
        "colab_type": "code",
        "colab": {}
      },
      "cell_type": "code",
      "source": [
        "import keras\n",
        "import pandas as pd\n",
        "from matplotlib import pyplot as plt\n",
        "import gzip\n",
        "from keras.layers import Input,Conv2D,MaxPooling2D,UpSampling2D\n",
        "from keras.models import Model\n",
        "from keras.optimizers import RMSprop\n",
        "import numpy as np\n",
        "from sklearn.model_selection import train_test_split"
      ],
      "execution_count": 0,
      "outputs": []
    },
    {
      "metadata": {
        "id": "PpjQD2o2a790",
        "colab_type": "code",
        "colab": {}
      },
      "cell_type": "code",
      "source": [
        "def extract_data(filename, num_images):\n",
        "  with gzip.open(filename) as bytestream:\n",
        "    bytestream.read(16)\n",
        "    buf = bytestream.read(28 * 28 * num_images)\n",
        "    image = np.frombuffer(buf, dtype = np.uint8).astype(np.float32)\n",
        "    image = image.reshape(num_images, 28 * 28)\n",
        "    \n",
        "    return image"
      ],
      "execution_count": 0,
      "outputs": []
    },
    {
      "metadata": {
        "id": "FRUegn4ClBb1",
        "colab_type": "code",
        "colab": {}
      },
      "cell_type": "code",
      "source": [
        "def extract_label(filename, num_images):\n",
        "  with gzip.open(filename) as bytestream:\n",
        "    bytestream.read(8)\n",
        "    buf_label = bytestream.read(1 * num_images)\n",
        "    label = np.frombuffer(buf_label, dtype = np.uint8).astype(np.int64)\n",
        "    \n",
        "    return label"
      ],
      "execution_count": 0,
      "outputs": []
    },
    {
      "metadata": {
        "id": "YFzXOSnvdWqF",
        "colab_type": "code",
        "outputId": "40e03354-11ea-4fb0-afc6-f3851c506c14",
        "colab": {
          "base_uri": "https://localhost:8080/",
          "height": 52
        }
      },
      "cell_type": "code",
      "source": [
        "cd /content/drive"
      ],
      "execution_count": 65,
      "outputs": [
        {
          "output_type": "stream",
          "text": [
            "[Errno 2] No such file or directory: '/content/drive'\n",
            "/content\n"
          ],
          "name": "stdout"
        }
      ]
    },
    {
      "metadata": {
        "id": "SW8qN2P9ok7O",
        "colab_type": "code",
        "colab": {
          "base_uri": "https://localhost:8080/",
          "height": 34
        },
        "outputId": "1a93989d-1a8b-449a-d550-c2b3b6a5612b"
      },
      "cell_type": "code",
      "source": [
        "from google.colab import drive\n",
        "drive.mount('/content/gdrive')"
      ],
      "execution_count": 66,
      "outputs": [
        {
          "output_type": "stream",
          "text": [
            "Drive already mounted at /content/gdrive; to attempt to forcibly remount, call drive.mount(\"/content/gdrive\", force_remount=True).\n"
          ],
          "name": "stdout"
        }
      ]
    },
    {
      "metadata": {
        "id": "LTHTjeTadpEE",
        "colab_type": "code",
        "colab": {}
      },
      "cell_type": "code",
      "source": [
        "train_data = extract_data('/content/gdrive/My Drive/deep_learning_practice/data/notMNIST/copy_of_train-images-idx3-ubyte.gz', 60000)\n",
        "test_data = extract_data('/content/gdrive/My Drive/deep_learning_practice/data/notMNIST/copy_of_t10k-images-idx3-ubyte.gz', 10000)"
      ],
      "execution_count": 0,
      "outputs": []
    },
    {
      "metadata": {
        "id": "ZHajYd2Klirb",
        "colab_type": "code",
        "colab": {}
      },
      "cell_type": "code",
      "source": [
        "train_label = extract_label('/content/gdrive/My Drive/deep_learning_practice/data/notMNIST/train-labels-idx1-ubyte.gz', 60000)\n",
        "test_label = extract_label('/content/gdrive/My Drive/deep_learning_practice/data/notMNIST/t10k-labels-idx1-ubyte.gz', 10000)"
      ],
      "execution_count": 0,
      "outputs": []
    },
    {
      "metadata": {
        "id": "p7pxbQ3HhUAA",
        "colab_type": "code",
        "colab": {
          "base_uri": "https://localhost:8080/",
          "height": 69
        },
        "outputId": "5235ec60-fc35-40e7-af9e-84ed6f28e329"
      },
      "cell_type": "code",
      "source": [
        "print(np.shape(train_data))\n",
        "print(np.shape(test_data))\n",
        "print(type(test_data))"
      ],
      "execution_count": 69,
      "outputs": [
        {
          "output_type": "stream",
          "text": [
            "(60000, 784)\n",
            "(10000, 784)\n",
            "<class 'numpy.ndarray'>\n"
          ],
          "name": "stdout"
        }
      ]
    },
    {
      "metadata": {
        "id": "5IFEELuYkXow",
        "colab_type": "code",
        "colab": {}
      },
      "cell_type": "code",
      "source": [
        "label_dict = {\n",
        " 0: 'A',\n",
        " 1: 'B',\n",
        " 2: 'C',\n",
        " 3: 'D',\n",
        " 4: 'E',\n",
        " 5: 'F',\n",
        " 6: 'G',\n",
        " 7: 'H',\n",
        " 8: 'I',\n",
        " 9: 'J',\n",
        "}"
      ],
      "execution_count": 0,
      "outputs": []
    },
    {
      "metadata": {
        "id": "8cEBL0MokY3b",
        "colab_type": "code",
        "colab": {
          "base_uri": "https://localhost:8080/",
          "height": 34
        },
        "outputId": "dad785d5-cd7e-4962-b45c-bf4968b2d14a"
      },
      "cell_type": "code",
      "source": [
        "train_data = train_data.reshape(-1, 28, 28, 1)\n",
        "test_data = test_data.reshape(-1, 28, 28, 1)\n",
        "\n",
        "train_data.shape, test_data.shape"
      ],
      "execution_count": 71,
      "outputs": [
        {
          "output_type": "execute_result",
          "data": {
            "text/plain": [
              "((60000, 28, 28, 1), (10000, 28, 28, 1))"
            ]
          },
          "metadata": {
            "tags": []
          },
          "execution_count": 71
        }
      ]
    },
    {
      "metadata": {
        "id": "0aFgvCDtkY6g",
        "colab_type": "code",
        "colab": {
          "base_uri": "https://localhost:8080/",
          "height": 34
        },
        "outputId": "c913a455-6168-4454-c57c-5bb98fa4c50a"
      },
      "cell_type": "code",
      "source": [
        "train_data.dtype"
      ],
      "execution_count": 72,
      "outputs": [
        {
          "output_type": "execute_result",
          "data": {
            "text/plain": [
              "dtype('float32')"
            ]
          },
          "metadata": {
            "tags": []
          },
          "execution_count": 72
        }
      ]
    },
    {
      "metadata": {
        "id": "iSVNxHzukY9n",
        "colab_type": "code",
        "colab": {
          "base_uri": "https://localhost:8080/",
          "height": 34
        },
        "outputId": "f917a985-fb46-44ca-8889-2f711b279dd7"
      },
      "cell_type": "code",
      "source": [
        "# rescaleing the pixel values in range 0 - 1 inclusive(training and testing data with the maximum pixel value of the training and testing data)\n",
        "\n",
        "train_data = train_data / np.max(train_data)\n",
        "test_data = test_data / np.max(test_data)\n",
        "\n",
        "np.max(train_data), np.max(test_data)"
      ],
      "execution_count": 73,
      "outputs": [
        {
          "output_type": "execute_result",
          "data": {
            "text/plain": [
              "(1.0, 1.0)"
            ]
          },
          "metadata": {
            "tags": []
          },
          "execution_count": 73
        }
      ]
    },
    {
      "metadata": {
        "id": "kfcsBCdxCkE4",
        "colab_type": "code",
        "colab": {}
      },
      "cell_type": "code",
      "source": [
        "# Note that for this task, you don't need training and testing labels. That's why you will pass the training images twice. Your training images will both act as the input as well as the ground truth similar to the labels you have in classification task.\n",
        "\n",
        "train_x, valid_x, train_ground,valid_ground = train_test_split(train_data, train_data, test_size = 0.2, random_state = 13)"
      ],
      "execution_count": 0,
      "outputs": []
    },
    {
      "metadata": {
        "id": "8qz1zGr2CkH4",
        "colab_type": "code",
        "colab": {
          "base_uri": "https://localhost:8080/",
          "height": 86
        },
        "outputId": "87e500f1-0a52-4ba0-c69f-10079afe6a6c"
      },
      "cell_type": "code",
      "source": [
        "train_x.shape, valid_x.shape, train_ground.shape, valid_ground.shape"
      ],
      "execution_count": 75,
      "outputs": [
        {
          "output_type": "execute_result",
          "data": {
            "text/plain": [
              "((48000, 28, 28, 1),\n",
              " (12000, 28, 28, 1),\n",
              " (48000, 28, 28, 1),\n",
              " (12000, 28, 28, 1))"
            ]
          },
          "metadata": {
            "tags": []
          },
          "execution_count": 75
        }
      ]
    },
    {
      "metadata": {
        "id": "hrkpCvhpCkKI",
        "colab_type": "code",
        "colab": {}
      },
      "cell_type": "code",
      "source": [
        "batch_size = 128\n",
        "epoch = 25\n",
        "inChannel = 1\n",
        "x, y = 28, 28\n",
        "input_image = Input(shape = (x, y, inChannel))"
      ],
      "execution_count": 0,
      "outputs": []
    },
    {
      "metadata": {
        "id": "82spuN7nCkMS",
        "colab_type": "code",
        "colab": {}
      },
      "cell_type": "code",
      "source": [
        "def autoencoder(input_image):\n",
        "  \n",
        "  #encoder\n",
        "  #input 28 * 28 * 1\n",
        "  \n",
        "  conv1 = Conv2D(32, (3, 3), activation = 'relu', padding = 'same')(input_image) # 28 x 28 x 32\n",
        "  pool1 = MaxPooling2D(pool_size = (2, 2))(conv1) # 14 * 14 * 32\n",
        "  conv2 = Conv2D(64, (3, 3), activation = 'relu', padding = 'same')(pool1)\n",
        "  pool2 = MaxPooling2D(pool_size = (2, 2))(conv2)\n",
        "  conv3 = Conv2D(128, (3, 3), activation = 'relu', padding = 'same')(pool2)\n",
        "  \n",
        "  #decoder\n",
        "  conv4 = Conv2D(128, (3, 3), activation = 'relu', padding = 'same')(conv3)\n",
        "  dpool4 = UpSampling2D((2, 2))(conv4)\n",
        "  conv5 = Conv2D(64, (3, 3), activation = 'relu', padding = 'same')(dpool4)\n",
        "  dpool5 = UpSampling2D((2, 2))(conv5)\n",
        "  decoded = Conv2D(1, (3, 3), activation = 'relu', padding = 'same')(dpool5)\n",
        "  \n",
        "  return decoded \n",
        "  \n",
        "  "
      ],
      "execution_count": 0,
      "outputs": []
    },
    {
      "metadata": {
        "id": "WkcJzL__qRJu",
        "colab_type": "code",
        "colab": {}
      },
      "cell_type": "code",
      "source": [
        "autoencoder = Model(input_image, autoencoder(input_image))\n",
        "autoencoder.compile(loss = 'mean_squared_error', optimizer = RMSprop())"
      ],
      "execution_count": 0,
      "outputs": []
    },
    {
      "metadata": {
        "id": "Yo-tvAuPqROu",
        "colab_type": "code",
        "colab": {
          "base_uri": "https://localhost:8080/",
          "height": 521
        },
        "outputId": "49110bdb-81ce-4177-afce-cfb8f9165396"
      },
      "cell_type": "code",
      "source": [
        "autoencoder.summary()"
      ],
      "execution_count": 79,
      "outputs": [
        {
          "output_type": "stream",
          "text": [
            "_________________________________________________________________\n",
            "Layer (type)                 Output Shape              Param #   \n",
            "=================================================================\n",
            "input_2 (InputLayer)         (None, 28, 28, 1)         0         \n",
            "_________________________________________________________________\n",
            "conv2d_13 (Conv2D)           (None, 28, 28, 32)        320       \n",
            "_________________________________________________________________\n",
            "max_pooling2d_5 (MaxPooling2 (None, 14, 14, 32)        0         \n",
            "_________________________________________________________________\n",
            "conv2d_14 (Conv2D)           (None, 14, 14, 64)        18496     \n",
            "_________________________________________________________________\n",
            "max_pooling2d_6 (MaxPooling2 (None, 7, 7, 64)          0         \n",
            "_________________________________________________________________\n",
            "conv2d_15 (Conv2D)           (None, 7, 7, 128)         73856     \n",
            "_________________________________________________________________\n",
            "conv2d_16 (Conv2D)           (None, 7, 7, 128)         147584    \n",
            "_________________________________________________________________\n",
            "up_sampling2d_5 (UpSampling2 (None, 14, 14, 128)       0         \n",
            "_________________________________________________________________\n",
            "conv2d_17 (Conv2D)           (None, 14, 14, 64)        73792     \n",
            "_________________________________________________________________\n",
            "up_sampling2d_6 (UpSampling2 (None, 28, 28, 64)        0         \n",
            "_________________________________________________________________\n",
            "conv2d_18 (Conv2D)           (None, 28, 28, 1)         577       \n",
            "=================================================================\n",
            "Total params: 314,625\n",
            "Trainable params: 314,625\n",
            "Non-trainable params: 0\n",
            "_________________________________________________________________\n"
          ],
          "name": "stdout"
        }
      ]
    },
    {
      "metadata": {
        "id": "SoL0S_n-qRG1",
        "colab_type": "code",
        "colab": {
          "base_uri": "https://localhost:8080/",
          "height": 903
        },
        "outputId": "b48fb82d-e5e0-49e5-92c3-0e4c68578da1"
      },
      "cell_type": "code",
      "source": [
        "autoencoder_train = autoencoder.fit(train_x, train_ground, batch_size = batch_size, epochs = epoch, verbose = 1, validation_data = (valid_x, valid_ground))"
      ],
      "execution_count": 80,
      "outputs": [
        {
          "output_type": "stream",
          "text": [
            "Train on 48000 samples, validate on 12000 samples\n",
            "Epoch 1/25\n",
            "48000/48000 [==============================] - 12s 251us/step - loss: 0.0610 - val_loss: 0.0149\n",
            "Epoch 2/25\n",
            "48000/48000 [==============================] - 12s 243us/step - loss: 0.0151 - val_loss: 0.0117\n",
            "Epoch 3/25\n",
            "48000/48000 [==============================] - 12s 243us/step - loss: 0.0100 - val_loss: 0.0076\n",
            "Epoch 4/25\n",
            "48000/48000 [==============================] - 12s 241us/step - loss: 0.0075 - val_loss: 0.0067\n",
            "Epoch 5/25\n",
            "48000/48000 [==============================] - 12s 243us/step - loss: 0.0062 - val_loss: 0.0050\n",
            "Epoch 6/25\n",
            "48000/48000 [==============================] - 12s 243us/step - loss: 0.0054 - val_loss: 0.0053\n",
            "Epoch 7/25\n",
            "48000/48000 [==============================] - 12s 243us/step - loss: 0.0048 - val_loss: 0.0042\n",
            "Epoch 8/25\n",
            "48000/48000 [==============================] - 12s 241us/step - loss: 0.0044 - val_loss: 0.0049\n",
            "Epoch 9/25\n",
            "48000/48000 [==============================] - 12s 242us/step - loss: 0.0041 - val_loss: 0.0081\n",
            "Epoch 10/25\n",
            "48000/48000 [==============================] - 12s 242us/step - loss: 0.0039 - val_loss: 0.0039\n",
            "Epoch 11/25\n",
            "48000/48000 [==============================] - 12s 243us/step - loss: 0.0037 - val_loss: 0.0032\n",
            "Epoch 12/25\n",
            "48000/48000 [==============================] - 12s 243us/step - loss: 0.0035 - val_loss: 0.0031\n",
            "Epoch 13/25\n",
            "48000/48000 [==============================] - 12s 242us/step - loss: 0.0034 - val_loss: 0.0028\n",
            "Epoch 14/25\n",
            "48000/48000 [==============================] - 12s 242us/step - loss: 0.0032 - val_loss: 0.0031\n",
            "Epoch 15/25\n",
            "48000/48000 [==============================] - 12s 241us/step - loss: 0.0031 - val_loss: 0.0031\n",
            "Epoch 16/25\n",
            "48000/48000 [==============================] - 12s 240us/step - loss: 0.0030 - val_loss: 0.0029\n",
            "Epoch 17/25\n",
            "48000/48000 [==============================] - 12s 241us/step - loss: 0.0030 - val_loss: 0.0033\n",
            "Epoch 18/25\n",
            "48000/48000 [==============================] - 12s 240us/step - loss: 0.0029 - val_loss: 0.0030\n",
            "Epoch 19/25\n",
            "48000/48000 [==============================] - 12s 241us/step - loss: 0.0028 - val_loss: 0.0034\n",
            "Epoch 20/25\n",
            "48000/48000 [==============================] - 12s 241us/step - loss: 0.0028 - val_loss: 0.0027\n",
            "Epoch 21/25\n",
            "48000/48000 [==============================] - 12s 241us/step - loss: 0.0027 - val_loss: 0.0034\n",
            "Epoch 22/25\n",
            "48000/48000 [==============================] - 12s 245us/step - loss: 0.0027 - val_loss: 0.0024\n",
            "Epoch 23/25\n",
            "48000/48000 [==============================] - 12s 244us/step - loss: 0.0026 - val_loss: 0.0022\n",
            "Epoch 24/25\n",
            "48000/48000 [==============================] - 11s 239us/step - loss: 0.0026 - val_loss: 0.0024\n",
            "Epoch 25/25\n",
            "48000/48000 [==============================] - 12s 241us/step - loss: 0.0025 - val_loss: 0.0039\n"
          ],
          "name": "stdout"
        }
      ]
    },
    {
      "metadata": {
        "id": "ETnr_fr5tn_N",
        "colab_type": "code",
        "colab": {
          "base_uri": "https://localhost:8080/",
          "height": 362
        },
        "outputId": "9ced9cbd-b94e-4a5e-8d24-961860fd219b"
      },
      "cell_type": "code",
      "source": [
        "loss = autoencoder_train.history['loss']\n",
        "val_loss = autoencoder_train.history['val_loss']\n",
        "epochs = range(epoch)\n",
        "plt.figure()\n",
        "plt.plot(epochs, loss, 'bo', label='Training loss')\n",
        "plt.plot(epochs, val_loss, 'b', label='Validation loss')\n",
        "plt.title('Training and validation loss')\n",
        "plt.legend()\n",
        "plt.show()"
      ],
      "execution_count": 84,
      "outputs": [
        {
          "output_type": "display_data",
          "data": {
            "image/png": "[encoded data removed]",
            "text/plain": [
              "<matplotlib.figure.Figure at 0x7f4c04093e80>"
            ]
          },
          "metadata": {
            "tags": []
          }
        }
      ]
    },
    {
      "metadata": {
        "id": "bEORFQkotoLV",
        "colab_type": "code",
        "colab": {
          "base_uri": "https://localhost:8080/",
          "height": 34
        },
        "outputId": "f5977f93-00d1-47de-d0a0-9cfe92f97dc4"
      },
      "cell_type": "code",
      "source": [
        "pred = autoencoder.predict(test_data)\n",
        "pred.shape"
      ],
      "execution_count": 86,
      "outputs": [
        {
          "output_type": "execute_result",
          "data": {
            "text/plain": [
              "(10000, 28, 28, 1)"
            ]
          },
          "metadata": {
            "tags": []
          },
          "execution_count": 86
        }
      ]
    },
    {
      "metadata": {
        "id": "g_A8aAVeqRCl",
        "colab_type": "code",
        "colab": {
          "base_uri": "https://localhost:8080/",
          "height": 320
        },
        "outputId": "cd2841b2-d9c2-4776-9a78-ef9dfbbdb231"
      },
      "cell_type": "code",
      "source": [
        "plt.figure(figsize=(20, 4))\n",
        "print(\"Test Images\")\n",
        "for i in range(10):\n",
        "    plt.subplot(2, 10, i+1)\n",
        "    plt.imshow(test_data[i, ..., 0], cmap='gray')\n",
        "    curr_lbl = test_label[i]\n",
        "    plt.title(\"(Label: \" + str(label_dict[curr_lbl]) + \")\")\n",
        "plt.show()    \n",
        "plt.figure(figsize=(20, 4))\n",
        "print(\"Reconstruction of Test Images\")\n",
        "for i in range(10):\n",
        "    plt.subplot(2, 10, i+1)\n",
        "    plt.imshow(pred[i, ..., 0], cmap='gray')  \n",
        "plt.show()"
      ],
      "execution_count": 88,
      "outputs": [
        {
          "output_type": "stream",
          "text": [
            "Test Images\n"
          ],
          "name": "stdout"
        },
        {
          "output_type": "display_data",
          "data": {
            "image/png": "[encoded data removed]",
            "text/plain": [
              "<matplotlib.figure.Figure at 0x7f4c013460b8>"
            ]
          },
          "metadata": {
            "tags": []
          }
        },
        {
          "output_type": "stream",
          "text": [
            "Reconstruction of Test Images\n"
          ],
          "name": "stdout"
        },
        {
          "output_type": "display_data",
          "data": {
            "image/png": "[encoded data removed]",
            "text/plain": [
              "<matplotlib.figure.Figure at 0x7f4c0111a198>"
            ]
          },
          "metadata": {
            "tags": []
          }
        }
      ]
    },
    {
      "metadata": {
        "id": "5oYQlKxIycnD",
        "colab_type": "code",
        "colab": {}
      },
      "cell_type": "code",
      "source": [
        "# Denoising Autoencoder soon coming ..."
      ],
      "execution_count": 0,
      "outputs": []
    },
    {
      "metadata": {
        "id": "fjrJwYJsycwV",
        "colab_type": "code",
        "colab": {}
      },
      "cell_type": "code",
      "source": [
        ""
      ],
      "execution_count": 0,
      "outputs": []
    },
    {
      "metadata": {
        "id": "iSaeZaqKyc66",
        "colab_type": "code",
        "colab": {}
      },
      "cell_type": "code",
      "source": [
        ""
      ],
      "execution_count": 0,
      "outputs": []
    },
    {
      "metadata": {
        "id": "yUff5xfukZAu",
        "colab_type": "code",
        "colab": {}
      },
      "cell_type": "code",
      "source": [
        ""
      ],
      "execution_count": 0,
      "outputs": []
    },
    {
      "metadata": {
        "id": "DKY8GqO-qPK5",
        "colab_type": "code",
        "colab": {}
      },
      "cell_type": "code",
      "source": [
        ""
      ],
      "execution_count": 0,
      "outputs": []
    },
    {
      "metadata": {
        "id": "p8bPekt-qPN9",
        "colab_type": "code",
        "colab": {}
      },
      "cell_type": "code",
      "source": [
        ""
      ],
      "execution_count": 0,
      "outputs": []
    }
  ]
}